{
 "cells": [
  {
   "cell_type": "code",
   "execution_count": 1,
   "id": "0d68cfb7-ca1d-45c0-bb94-b3575091fbe4",
   "metadata": {},
   "outputs": [],
   "source": [
    "import numpy as np\n",
    "import matplotlib as mpl\n",
    "import matplotlib.pyplot as plt\n",
    "import soundfile as sf\n",
    "import sounddevice as sd"
   ]
  },
  {
   "cell_type": "code",
   "execution_count": 5,
   "id": "10e2e927-a389-476d-95dc-4f8cf2a5118c",
   "metadata": {},
   "outputs": [
    {
     "ename": "LibsndfileError",
     "evalue": "Error opening 'TrumpetLaPeriod.wav': System error.",
     "output_type": "error",
     "traceback": [
      "\u001b[0;31m---------------------------------------------------------------------------\u001b[0m",
      "\u001b[0;31mLibsndfileError\u001b[0m                           Traceback (most recent call last)",
      "Cell \u001b[0;32mIn[5], line 3\u001b[0m\n\u001b[1;32m      1\u001b[0m \u001b[38;5;66;03m#piano_data, piano_samplerate = sf.read(\"PianoLaPeriod.wav\")\u001b[39;00m\n\u001b[1;32m      2\u001b[0m \u001b[38;5;66;03m#violin_data, violin_samplerate = sf.read(\"ViolinLaPeriod.wav\")\u001b[39;00m\n\u001b[0;32m----> 3\u001b[0m trumpet_data, trumpet_samplerate \u001b[38;5;241m=\u001b[39m \u001b[43msf\u001b[49m\u001b[38;5;241;43m.\u001b[39;49m\u001b[43mread\u001b[49m\u001b[43m(\u001b[49m\u001b[38;5;124;43m\"\u001b[39;49m\u001b[38;5;124;43mTrumpetLaPeriod.wav\u001b[39;49m\u001b[38;5;124;43m\"\u001b[39;49m\u001b[43m)\u001b[49m\n\u001b[1;32m      4\u001b[0m flute_data, flute_samplerate \u001b[38;5;241m=\u001b[39m sf\u001b[38;5;241m.\u001b[39mread(\u001b[38;5;124m'\u001b[39m\u001b[38;5;124mFluteLaPeriod.wav\u001b[39m\u001b[38;5;124m'\u001b[39m)\n",
      "File \u001b[0;32m~/mambaforge/envs/dijon/lib/python3.10/site-packages/soundfile.py:285\u001b[0m, in \u001b[0;36mread\u001b[0;34m(file, frames, start, stop, dtype, always_2d, fill_value, out, samplerate, channels, format, subtype, endian, closefd)\u001b[0m\n\u001b[1;32m    199\u001b[0m \u001b[38;5;28;01mdef\u001b[39;00m \u001b[38;5;21mread\u001b[39m(file, frames\u001b[38;5;241m=\u001b[39m\u001b[38;5;241m-\u001b[39m\u001b[38;5;241m1\u001b[39m, start\u001b[38;5;241m=\u001b[39m\u001b[38;5;241m0\u001b[39m, stop\u001b[38;5;241m=\u001b[39m\u001b[38;5;28;01mNone\u001b[39;00m, dtype\u001b[38;5;241m=\u001b[39m\u001b[38;5;124m'\u001b[39m\u001b[38;5;124mfloat64\u001b[39m\u001b[38;5;124m'\u001b[39m, always_2d\u001b[38;5;241m=\u001b[39m\u001b[38;5;28;01mFalse\u001b[39;00m,\n\u001b[1;32m    200\u001b[0m          fill_value\u001b[38;5;241m=\u001b[39m\u001b[38;5;28;01mNone\u001b[39;00m, out\u001b[38;5;241m=\u001b[39m\u001b[38;5;28;01mNone\u001b[39;00m, samplerate\u001b[38;5;241m=\u001b[39m\u001b[38;5;28;01mNone\u001b[39;00m, channels\u001b[38;5;241m=\u001b[39m\u001b[38;5;28;01mNone\u001b[39;00m,\n\u001b[1;32m    201\u001b[0m          \u001b[38;5;28mformat\u001b[39m\u001b[38;5;241m=\u001b[39m\u001b[38;5;28;01mNone\u001b[39;00m, subtype\u001b[38;5;241m=\u001b[39m\u001b[38;5;28;01mNone\u001b[39;00m, endian\u001b[38;5;241m=\u001b[39m\u001b[38;5;28;01mNone\u001b[39;00m, closefd\u001b[38;5;241m=\u001b[39m\u001b[38;5;28;01mTrue\u001b[39;00m):\n\u001b[1;32m    202\u001b[0m \u001b[38;5;250m    \u001b[39m\u001b[38;5;124;03m\"\"\"Provide audio data from a sound file as NumPy array.\u001b[39;00m\n\u001b[1;32m    203\u001b[0m \n\u001b[1;32m    204\u001b[0m \u001b[38;5;124;03m    By default, the whole file is read from the beginning, but the\u001b[39;00m\n\u001b[0;32m   (...)\u001b[0m\n\u001b[1;32m    283\u001b[0m \n\u001b[1;32m    284\u001b[0m \u001b[38;5;124;03m    \"\"\"\u001b[39;00m\n\u001b[0;32m--> 285\u001b[0m     \u001b[38;5;28;01mwith\u001b[39;00m \u001b[43mSoundFile\u001b[49m\u001b[43m(\u001b[49m\u001b[43mfile\u001b[49m\u001b[43m,\u001b[49m\u001b[43m \u001b[49m\u001b[38;5;124;43m'\u001b[39;49m\u001b[38;5;124;43mr\u001b[39;49m\u001b[38;5;124;43m'\u001b[39;49m\u001b[43m,\u001b[49m\u001b[43m \u001b[49m\u001b[43msamplerate\u001b[49m\u001b[43m,\u001b[49m\u001b[43m \u001b[49m\u001b[43mchannels\u001b[49m\u001b[43m,\u001b[49m\n\u001b[1;32m    286\u001b[0m \u001b[43m                   \u001b[49m\u001b[43msubtype\u001b[49m\u001b[43m,\u001b[49m\u001b[43m \u001b[49m\u001b[43mendian\u001b[49m\u001b[43m,\u001b[49m\u001b[43m \u001b[49m\u001b[38;5;28;43mformat\u001b[39;49m\u001b[43m,\u001b[49m\u001b[43m \u001b[49m\u001b[43mclosefd\u001b[49m\u001b[43m)\u001b[49m \u001b[38;5;28;01mas\u001b[39;00m f:\n\u001b[1;32m    287\u001b[0m         frames \u001b[38;5;241m=\u001b[39m f\u001b[38;5;241m.\u001b[39m_prepare_read(start, stop, frames)\n\u001b[1;32m    288\u001b[0m         data \u001b[38;5;241m=\u001b[39m f\u001b[38;5;241m.\u001b[39mread(frames, dtype, always_2d, fill_value, out)\n",
      "File \u001b[0;32m~/mambaforge/envs/dijon/lib/python3.10/site-packages/soundfile.py:658\u001b[0m, in \u001b[0;36mSoundFile.__init__\u001b[0;34m(self, file, mode, samplerate, channels, subtype, endian, format, closefd)\u001b[0m\n\u001b[1;32m    655\u001b[0m \u001b[38;5;28mself\u001b[39m\u001b[38;5;241m.\u001b[39m_mode \u001b[38;5;241m=\u001b[39m mode\n\u001b[1;32m    656\u001b[0m \u001b[38;5;28mself\u001b[39m\u001b[38;5;241m.\u001b[39m_info \u001b[38;5;241m=\u001b[39m _create_info_struct(file, mode, samplerate, channels,\n\u001b[1;32m    657\u001b[0m                                  \u001b[38;5;28mformat\u001b[39m, subtype, endian)\n\u001b[0;32m--> 658\u001b[0m \u001b[38;5;28mself\u001b[39m\u001b[38;5;241m.\u001b[39m_file \u001b[38;5;241m=\u001b[39m \u001b[38;5;28;43mself\u001b[39;49m\u001b[38;5;241;43m.\u001b[39;49m\u001b[43m_open\u001b[49m\u001b[43m(\u001b[49m\u001b[43mfile\u001b[49m\u001b[43m,\u001b[49m\u001b[43m \u001b[49m\u001b[43mmode_int\u001b[49m\u001b[43m,\u001b[49m\u001b[43m \u001b[49m\u001b[43mclosefd\u001b[49m\u001b[43m)\u001b[49m\n\u001b[1;32m    659\u001b[0m \u001b[38;5;28;01mif\u001b[39;00m \u001b[38;5;28mset\u001b[39m(mode)\u001b[38;5;241m.\u001b[39missuperset(\u001b[38;5;124m'\u001b[39m\u001b[38;5;124mr+\u001b[39m\u001b[38;5;124m'\u001b[39m) \u001b[38;5;129;01mand\u001b[39;00m \u001b[38;5;28mself\u001b[39m\u001b[38;5;241m.\u001b[39mseekable():\n\u001b[1;32m    660\u001b[0m     \u001b[38;5;66;03m# Move write position to 0 (like in Python file objects)\u001b[39;00m\n\u001b[1;32m    661\u001b[0m     \u001b[38;5;28mself\u001b[39m\u001b[38;5;241m.\u001b[39mseek(\u001b[38;5;241m0\u001b[39m)\n",
      "File \u001b[0;32m~/mambaforge/envs/dijon/lib/python3.10/site-packages/soundfile.py:1216\u001b[0m, in \u001b[0;36mSoundFile._open\u001b[0;34m(self, file, mode_int, closefd)\u001b[0m\n\u001b[1;32m   1213\u001b[0m \u001b[38;5;28;01mif\u001b[39;00m file_ptr \u001b[38;5;241m==\u001b[39m _ffi\u001b[38;5;241m.\u001b[39mNULL:\n\u001b[1;32m   1214\u001b[0m     \u001b[38;5;66;03m# get the actual error code\u001b[39;00m\n\u001b[1;32m   1215\u001b[0m     err \u001b[38;5;241m=\u001b[39m _snd\u001b[38;5;241m.\u001b[39msf_error(file_ptr)\n\u001b[0;32m-> 1216\u001b[0m     \u001b[38;5;28;01mraise\u001b[39;00m LibsndfileError(err, prefix\u001b[38;5;241m=\u001b[39m\u001b[38;5;124m\"\u001b[39m\u001b[38;5;124mError opening \u001b[39m\u001b[38;5;132;01m{0!r}\u001b[39;00m\u001b[38;5;124m: \u001b[39m\u001b[38;5;124m\"\u001b[39m\u001b[38;5;241m.\u001b[39mformat(\u001b[38;5;28mself\u001b[39m\u001b[38;5;241m.\u001b[39mname))\n\u001b[1;32m   1217\u001b[0m \u001b[38;5;28;01mif\u001b[39;00m mode_int \u001b[38;5;241m==\u001b[39m _snd\u001b[38;5;241m.\u001b[39mSFM_WRITE:\n\u001b[1;32m   1218\u001b[0m     \u001b[38;5;66;03m# Due to a bug in libsndfile version <= 1.0.25, frames != 0\u001b[39;00m\n\u001b[1;32m   1219\u001b[0m     \u001b[38;5;66;03m# when opening a named pipe in SFM_WRITE mode.\u001b[39;00m\n\u001b[1;32m   1220\u001b[0m     \u001b[38;5;66;03m# See http://github.com/erikd/libsndfile/issues/77.\u001b[39;00m\n\u001b[1;32m   1221\u001b[0m     \u001b[38;5;28mself\u001b[39m\u001b[38;5;241m.\u001b[39m_info\u001b[38;5;241m.\u001b[39mframes \u001b[38;5;241m=\u001b[39m \u001b[38;5;241m0\u001b[39m\n",
      "\u001b[0;31mLibsndfileError\u001b[0m: Error opening 'TrumpetLaPeriod.wav': System error."
     ]
    }
   ],
   "source": [
    "piano_data, piano_samplerate = sf.read(\"PianoLaPeriod.wav\")\n",
    "violin_data, violin_samplerate = sf.read(\"ViolinLaPeriod.wav\")\n",
    "trumpet_data, trumpet_samplerate = sf.read(\"TrumpetLaPeriod.wav\")\n",
    "flute_data, flute_samplerate = sf.read('FluteLaPeriod.wav')"
   ]
  },
  {
   "cell_type": "code",
   "execution_count": null,
   "id": "2ce6bedb-5a27-4cd1-bfcb-4c7fb87a254a",
   "metadata": {},
   "outputs": [],
   "source": [
    "piano_time = (np.arange(len(piano_data)))/(piano_samplerate)\n",
    "flute_time = (np.arange(len(flute_data)))/(flute_samplerate)\n",
    "trumpet_time = (np.arange(len(trumpet_data)))/(trumpet_samplerate)\n",
    "violin_time = (np.arange(len(violin_data)))/(violin_samplerate)"
   ]
  },
  {
   "cell_type": "code",
   "execution_count": null,
   "id": "0d362c10-0763-4a2a-91af-fb65d17ad6fc",
   "metadata": {},
   "outputs": [],
   "source": [
    "plt.subplot(2,2,1)\n",
    "plt.plot(piano_time,piano_data)\n",
    "plt.subplot(2,2,2)\n",
    "plt.plot(flute_time,flute_data)\n",
    "plt.subplot(2,2,3)\n",
    "plt.plot(trumpet_time,trumpet_data)\n",
    "plt.subplot(2,2,4)\n",
    "plt.plot(violin_time,violin_data)"
   ]
  },
  {
   "cell_type": "code",
   "execution_count": null,
   "id": "725679d4-36e4-4f28-a80c-e1beaefa245b",
   "metadata": {},
   "outputs": [],
   "source": [
    "piano_extdata = np.array(list(piano_data)*1000)\n",
    "piano_exttime = (np.arange(len(piano_extdata)))/piano_samplerate"
   ]
  },
  {
   "cell_type": "code",
   "execution_count": null,
   "id": "934f9b5b-c4a9-461a-9ea4-9eca2cdb4a0b",
   "metadata": {},
   "outputs": [],
   "source": [
    "devices = sd.query_devices()\n",
    "for idx, device in enumerate(devices):\n",
    "    print(f\"Device {idx}: {device['name']}\")\n",
    "#sd.play(piano_extdata,piano_time)\n",
    "#sd.wait()"
   ]
  },
  {
   "cell_type": "code",
   "execution_count": null,
   "id": "5079cc41-b287-4929-b1b9-bfe5753b8ba2",
   "metadata": {},
   "outputs": [],
   "source": [
    "piano_freqdata = np.fft.fft(piano_data)\n",
    "N = len(piano_freqdata)\n",
    "sr = piano_samplerate/N\n",
    "freq_piano = np.arange(N)*sr\n",
    "#plt.stem(freq_piano,np.abs(piano_freqdata))\n",
    "#plt.title('Piano spectrum')\n",
    "#plt.xlim(0,10000)"
   ]
  },
  {
   "cell_type": "code",
   "execution_count": null,
   "id": "1e8bcbca-dfed-465b-b586-6260fb4b1e6b",
   "metadata": {},
   "outputs": [],
   "source": [
    "trumpet_freqdata = np.fft.fft(trumpet_data)\n",
    "sr = trumpet_samplerate/N\n",
    "freq_trumpet = np.arange(N)*sr\n",
    "#plt.stem(freq_trumpet,np.abs(trumpet_freqdata))\n",
    "#plt.title('Trumpet spectrum')\n",
    "#plt.xlim(0,10000)"
   ]
  },
  {
   "cell_type": "code",
   "execution_count": null,
   "id": "dd5e491a-fb1f-4078-8657-0ccd756c355f",
   "metadata": {},
   "outputs": [],
   "source": [
    "violin_freqdata = np.fft.fft(violin_data)\n",
    "sr = violin_samplerate/N\n",
    "freq_violin = np.arange(N)*sr\n",
    "#plt.stem(freq_violin,np.abs(violin_freqdata))\n",
    "#plt.title('Violin spectrum')\n",
    "#plt.xlim(0,10000)"
   ]
  },
  {
   "cell_type": "code",
   "execution_count": null,
   "id": "8c41db58-b750-45d2-91ac-4ceacbf56b03",
   "metadata": {},
   "outputs": [],
   "source": [
    "flute_freqdata = np.fft.fft(flute_data)\n",
    "sr = flute_samplerate/N\n",
    "freq_flute = np.arange(N)*sr\n",
    "#plt.stem(freq_flute,np.abs(flute_freqdata))\n",
    "#plt.title('Flute spectrum')\n",
    "#plt.xlim(0,10000)"
   ]
  },
  {
   "cell_type": "code",
   "execution_count": null,
   "id": "fae9871c-2362-407f-be68-3f22e435fea0",
   "metadata": {},
   "outputs": [],
   "source": [
    "plt.subplot(2,2,4)\n",
    "plt.stem(freq_flute,np.abs(flute_freqdata))\n",
    "plt.ylabel('Flute spectrum')\n",
    "plt.xlim(0,10000)\n",
    "\n",
    "plt.subplot(2,2,3)\n",
    "plt.stem(freq_violin,np.abs(violin_freqdata))\n",
    "plt.ylabel('Violin spectrum')\n",
    "plt.xlim(0,10000)\n",
    "\n",
    "plt.subplot(2,2,2)\n",
    "plt.stem(freq_trumpet,np.abs(trumpet_freqdata))\n",
    "plt.ylabel('Trumpet spectrum')\n",
    "plt.xlim(0,10000)\n",
    "\n",
    "plt.subplot(2,2,1)\n",
    "plt.stem(freq_piano,np.abs(piano_freqdata))\n",
    "plt.ylabel('Piano spectrum')\n",
    "plt.xlim(0,10000)    "
   ]
  },
  {
   "cell_type": "code",
   "execution_count": null,
   "id": "2c618dfe-9f9e-4fea-af13-cb118d813f0d",
   "metadata": {},
   "outputs": [],
   "source": [
    "#Finding fundamental frequencies\n",
    "ffp = freq_piano[1]\n",
    "fft = freq_trumpet[1]\n",
    "ffv = freq_violin[1]\n",
    "fff = freq_flute[1]\n",
    "print(ffp,fft,ffv,fff)"
   ]
  }
 ],
 "metadata": {
  "kernelspec": {
   "display_name": "Python 3 (ipykernel)",
   "language": "python",
   "name": "python3"
  },
  "language_info": {
   "codemirror_mode": {
    "name": "ipython",
    "version": 3
   },
   "file_extension": ".py",
   "mimetype": "text/x-python",
   "name": "python",
   "nbconvert_exporter": "python",
   "pygments_lexer": "ipython3",
   "version": "3.10.12"
  }
 },
 "nbformat": 4,
 "nbformat_minor": 5
}
